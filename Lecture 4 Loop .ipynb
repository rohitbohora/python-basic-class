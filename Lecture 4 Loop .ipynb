{
 "cells": [
  {
   "cell_type": "code",
   "execution_count": 53,
   "metadata": {},
   "outputs": [
    {
     "name": "stdout",
     "output_type": "stream",
     "text": [
      "Rosni is my real good friends\n",
      "Sunu is the love of my life\n",
      "Sandhya is my real good friends\n",
      "Sadikshya is my real good friends\n",
      "Binisha is my real good friends\n",
      "Sony is my real good friends\n",
      "Niruta is my real good friends\n",
      "Susma is my real good friends\n"
     ]
    }
   ],
   "source": [
    "girls = [\"Rosni\",\"Sunu\",\"Sandhya\",\"Sadikshya\",\"Binisha\",\"Sony\",\"Niruta\",\"Susma\"]\n",
    "my_love = \"Sunu\"\n",
    "\n",
    "for each_girl in girls:\n",
    " if each_girl == my_love:\n",
    "        print(my_love , \"is the love of my life\")\n",
    "      \n",
    " else:\n",
    "    print(each_girl ,\"is my real good friends\")"
   ]
  },
  {
   "cell_type": "code",
   "execution_count": 30,
   "metadata": {},
   "outputs": [
    {
     "name": "stdout",
     "output_type": "stream",
     "text": [
      "in this loop count,i value is =  0\n",
      "in this loop count,i value is =  1\n",
      "in this loop count,i value is =  2\n",
      "in this loop count,i value is =  3\n",
      "in this loop count,i value is =  4\n",
      "in this loop count,i value is =  5\n",
      "in this loop count,i value is =  6\n",
      "in this loop count,i value is =  7\n",
      "in this loop count,i value is =  8\n",
      "in this loop count,i value is =  9\n"
     ]
    }
   ],
   "source": [
    "for i in range(10):\n",
    "    print(\"in this loop count,i value is = \",i)"
   ]
  },
  {
   "cell_type": "code",
   "execution_count": 7,
   "metadata": {},
   "outputs": [
    {
     "name": "stdout",
     "output_type": "stream",
     "text": [
      "mango\n",
      "apple\n",
      "orange\n"
     ]
    }
   ],
   "source": [
    "fruit =[\"mango\",\"apple\",\"orange\"]\n",
    "\n",
    "for each_item in fruit:\n",
    "    print(each_item)"
   ]
  },
  {
   "cell_type": "code",
   "execution_count": 8,
   "metadata": {},
   "outputs": [
    {
     "name": "stdout",
     "output_type": "stream",
     "text": [
      "rohit\n",
      "sagar\n",
      "salman\n"
     ]
    }
   ],
   "source": [
    "actor = [\"rohit\",\"sagar\",\"salman\"]\n",
    "\n",
    "for hero in actor:\n",
    "    print(hero)"
   ]
  },
  {
   "cell_type": "code",
   "execution_count": 14,
   "metadata": {},
   "outputs": [
    {
     "name": "stdout",
     "output_type": "stream",
     "text": [
      "2\n",
      "4\n",
      "6\n",
      "8\n",
      "10\n",
      "12\n",
      "14\n",
      "16\n",
      "18\n",
      "20\n"
     ]
    }
   ],
   "source": [
    "for i in range(1,11):\n",
    " print(2 * i)"
   ]
  },
  {
   "cell_type": "code",
   "execution_count": 92,
   "metadata": {},
   "outputs": [
    {
     "name": "stdout",
     "output_type": "stream",
     "text": [
      "['muskan', 'milan']\n"
     ]
    }
   ],
   "source": [
    "boys = [\"rohit\",\"sagar\",\"muskan\",\"jeson\",\"dev\",\"milan\",\"surob\"]\n",
    "friend =[]\n",
    "\n",
    "for b in boys:\n",
    " if b.startswith(\"m\"):\n",
    "    friend.append(b)\n",
    "    \n",
    "        \n",
    "print(friend)    \n",
    " \n"
   ]
  },
  {
   "cell_type": "code",
   "execution_count": 97,
   "metadata": {},
   "outputs": [
    {
     "name": "stdout",
     "output_type": "stream",
     "text": [
      "['rohit']\n"
     ]
    }
   ],
   "source": [
    "boys = [\"rohit\",\"sagar\",\"muskan\",\"jeson\",\"dev\",\"milan\",\"surob\",\"rohan\",\"rojit\",\"santosh\",\"sunil\",'prabin']\n",
    "friend =[]\n",
    "\n",
    "for b in boys:\n",
    " if b == \"rohit\":\n",
    "    friend.append(b)\n",
    "    break\n",
    " if b.startswith(\"r\"):\n",
    "     friend.append(b)\n",
    "\n",
    "print(friend)    \n",
    " \n"
   ]
  },
  {
   "cell_type": "code",
   "execution_count": null,
   "metadata": {},
   "outputs": [],
   "source": []
  }
 ],
 "metadata": {
  "kernelspec": {
   "display_name": "Python 3",
   "language": "python",
   "name": "python3"
  },
  "language_info": {
   "codemirror_mode": {
    "name": "ipython",
    "version": 3
   },
   "file_extension": ".py",
   "mimetype": "text/x-python",
   "name": "python",
   "nbconvert_exporter": "python",
   "pygments_lexer": "ipython3",
   "version": "3.7.6"
  }
 },
 "nbformat": 4,
 "nbformat_minor": 4
}
